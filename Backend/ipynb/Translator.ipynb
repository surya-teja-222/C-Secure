{
 "cells": [
  {
   "cell_type": "code",
   "execution_count": 3,
   "id": "fca5041e-296e-4171-a0ca-fb3d8c597294",
   "metadata": {},
   "outputs": [],
   "source": [
    "from googletrans import Translator, constants\n",
    "from pprint import pprint"
   ]
  },
  {
   "cell_type": "code",
   "execution_count": 4,
   "id": "160c6432-6386-4256-b813-187f9500d7ea",
   "metadata": {},
   "outputs": [],
   "source": [
    "translator = Translator()"
   ]
  },
  {
   "cell_type": "code",
   "execution_count": 11,
   "id": "9478de08-f8c6-4db7-ac82-0bdc7bae4cce",
   "metadata": {},
   "outputs": [],
   "source": [
    "ot_lang=['శారీరక సౌందర్యం కన్నా లంజ 😂 హృదయ సౌందర్యం గొప్పది😂😂']"
   ]
  },
  {
   "cell_type": "code",
   "execution_count": 12,
   "id": "57c3c70f-49fb-497e-9c40-081822f3aeda",
   "metadata": {},
   "outputs": [],
   "source": [
    "sentences = []\n",
    "for i in ot_lang:\n",
    "  result = translator.translate(i)\n",
    "  sentences.append(result.text)"
   ]
  },
  {
   "cell_type": "code",
   "execution_count": 13,
   "id": "781f18f7-3485-463b-b07d-a03e6ac855b0",
   "metadata": {},
   "outputs": [
    {
     "data": {
      "text/plain": [
       "['Lanza 😂 Heart beauty is greater than physical beauty']"
      ]
     },
     "execution_count": 13,
     "metadata": {},
     "output_type": "execute_result"
    }
   ],
   "source": [
    "sentences"
   ]
  },
  {
   "cell_type": "code",
   "execution_count": null,
   "id": "ec58c12c-38b6-42da-9388-c859c8d1e7c5",
   "metadata": {},
   "outputs": [],
   "source": []
  }
 ],
 "metadata": {
  "kernelspec": {
   "display_name": "Python 3 (ipykernel)",
   "language": "python",
   "name": "python3"
  },
  "language_info": {
   "codemirror_mode": {
    "name": "ipython",
    "version": 3
   },
   "file_extension": ".py",
   "mimetype": "text/x-python",
   "name": "python",
   "nbconvert_exporter": "python",
   "pygments_lexer": "ipython3",
   "version": "3.10.7"
  }
 },
 "nbformat": 4,
 "nbformat_minor": 5
}
